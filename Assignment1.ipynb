{
  "nbformat": 4,
  "nbformat_minor": 0,
  "metadata": {
    "colab": {
      "provenance": [],
      "authorship_tag": "ABX9TyN94/7M7RTrdEvQ/1mjyjrp",
      "include_colab_link": true
    },
    "kernelspec": {
      "name": "python3",
      "display_name": "Python 3"
    },
    "language_info": {
      "name": "python"
    }
  },
  "cells": [
    {
      "cell_type": "markdown",
      "metadata": {
        "id": "view-in-github",
        "colab_type": "text"
      },
      "source": [
        "<a href=\"https://colab.research.google.com/github/Casterion/optAssignment/blob/main/Assignment1.ipynb\" target=\"_parent\"><img src=\"https://colab.research.google.com/assets/colab-badge.svg\" alt=\"Open In Colab\"/></a>"
      ]
    },
    {
      "cell_type": "markdown",
      "source": [
        "Question 1:\n",
        "\n",
        "Convolution extracts features from images by applying filters\n",
        "Pooling reduces the dimensions of the image while retaining important features\n",
        "\n",
        "Question 2:\n",
        "\n",
        "Kernel size refers to the dimensions of the filter\n",
        "\n",
        "Question 3:\n",
        "\n",
        "Stride determines how much the filter moves along the image\n",
        "\n",
        "Question 4:\n",
        "\n",
        "You can adjust them using conv2d"
      ],
      "metadata": {
        "id": "KI9F1FbVVJyi"
      }
    },
    {
      "cell_type": "markdown",
      "source": [
        "Task (images on github):\n"
      ],
      "metadata": {
        "id": "KWAcm4_MWvmi"
      }
    },
    {
      "cell_type": "code",
      "execution_count": null,
      "metadata": {
        "id": "aLxHo4CYDRPs"
      },
      "outputs": [],
      "source": [
        "from google.colab import drive\n",
        "drive.mount('/content/drive')\n",
        "\n",
        "base_dir = \"/content/drive/MyDrive/dataset\""
      ]
    },
    {
      "cell_type": "code",
      "source": [
        "!ls /content/drive/MyDrive/dataset/test"
      ],
      "metadata": {
        "id": "witcklglIlRr"
      },
      "execution_count": null,
      "outputs": []
    },
    {
      "cell_type": "code",
      "source": [
        "\n",
        "\n",
        "\n",
        "import tensorflow as tf\n",
        "from tensorflow.keras.models import Sequential\n",
        "from tensorflow.keras.layers import Conv2D, MaxPooling2D, Flatten, Dense\n",
        "from tensorflow.keras.preprocessing.image import ImageDataGenerator\n",
        "\n",
        "\n",
        "train_dir = base_dir + \"/train\"\n",
        "val_dir = base_dir + \"/val\"\n",
        "\n",
        "# Data preprocessing\n",
        "datagen = ImageDataGenerator(rescale=1./255)\n",
        "\n",
        "train_generator = datagen.flow_from_directory(\n",
        "    train_dir,\n",
        "    target_size=(150, 150),\n",
        "    batch_size=32,\n",
        "    class_mode=\"binary\"\n",
        ")\n",
        "\n",
        "val_generator = datagen.flow_from_directory(\n",
        "    val_dir,\n",
        "    target_size=(150, 150),\n",
        "    batch_size=32,\n",
        "    class_mode=\"binary\"\n",
        ")\n",
        "\n",
        "# Building CNN Model\n",
        "model = Sequential([\n",
        "    Conv2D(32, (3,3), activation=\"relu\", input_shape=(150, 150, 3)),\n",
        "    MaxPooling2D(2,2),\n",
        "    Conv2D(64, (3,3), activation=\"relu\"),\n",
        "    MaxPooling2D(2,2),\n",
        "    Flatten(),\n",
        "    Dense(128, activation=\"relu\"),\n",
        "    Dense(1, activation=\"sigmoid\")\n",
        "])\n",
        "\n",
        "model.compile(optimizer=\"adam\",\n",
        "              loss=\"binary_crossentropy\",\n",
        "              metrics=[\"accuracy\"])\n",
        "\n",
        "# Training\n",
        "model.fit(train_generator,\n",
        "          validation_data=val_generator,\n",
        "          epochs=10)\n",
        "\n",
        "# Save model\n",
        "model.save(\"fridge_vs_oven_classifier.h5\")\n",
        "\n",
        "print(\"Model training complete!\")"
      ],
      "metadata": {
        "id": "KuDM4M_iE_7E"
      },
      "execution_count": null,
      "outputs": []
    },
    {
      "cell_type": "code",
      "source": [
        "from tensorflow.keras.models import load_model\n",
        "\n",
        "model = load_model(\"fridge_vs_oven_classifier.h5\")"
      ],
      "metadata": {
        "id": "lABe8AAfJtV_"
      },
      "execution_count": null,
      "outputs": []
    },
    {
      "cell_type": "code",
      "source": [
        "import cv2\n",
        "import numpy as np\n",
        "\n",
        "\n",
        "img_path = \"/content/drive/MyDrive/dataset/test/oven99.jpg\"\n",
        "image = cv2.imread(img_path)\n",
        "image = cv2.resize(image, (150, 150))  # Resize to match input size\n",
        "image = image.astype(\"float32\") / 255.0  # Normalize\n",
        "image = np.expand_dims(image, axis=0)  # Add batch dimension"
      ],
      "metadata": {
        "id": "XS-Ew8vPJtui"
      },
      "execution_count": 33,
      "outputs": []
    },
    {
      "cell_type": "code",
      "source": [
        "prediction = model.predict(image)\n",
        "\n",
        "\n",
        "label = \"Oven\" if prediction[0][0] > 0.5 else \"Fridge\"\n",
        "print(f\"Predicted: {label}\")"
      ],
      "metadata": {
        "id": "YBnfReLMLbl6"
      },
      "execution_count": null,
      "outputs": []
    }
  ]
}